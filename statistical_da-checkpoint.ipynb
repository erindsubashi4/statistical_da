{
 "cells": [
  {
   "cell_type": "markdown",
   "metadata": {},
   "source": [
    "**Description of the plans\n",
    "Note: Megaline rounds seconds up to minutes, and megabytes to gigabytes. For calls, each individual call is rounded up: even if the call lasted just one second, it will be counted as one minute. For web traffic, individual web sessions are not rounded up. Instead, the total for the month is rounded up. If someone uses 1025 megabytes this month, they will be charged for 2 gigabytes.\n",
    "**Surf\n",
    "1.\tMonthly charge: $20\n",
    "2.\t500 monthly minutes, 50 texts, and 15 GB of data\n",
    "3.\tAfter exceeding the package limits:\n",
    "    o\t1 minute: 3 cents\n",
    "    o\t1 text message: 3 cents\n",
    "    o\t1 GB of data: $10\n",
    "**Ultimate\n",
    "1.\tMonthly charge: $70\n",
    "2.\t3000 monthly minutes, 1000 text messages, and 30 GB of data\n",
    "3.\tAfter exceeding the package limits:\n",
    "    o\t1 minute: 1 cent\n",
    "    o\t1 text message: 1 cent\n",
    "    o\t1 GB of data: $7\n",
    "\n",
    "\n"
   ]
  },
  {
   "cell_type": "markdown",
   "metadata": {},
   "source": [
    "**Step 1. Open the data file and study the general information"
   ]
  },
  {
   "cell_type": "markdown",
   "metadata": {},
   "source": [
    "**Step 2. Prepare the data\n",
    "•\tConvert the data to the necessary types\n",
    "•\tFind and eliminate errors in the data\n",
    "Explain what errors you found and how you removed them. Note: many calls have a duration of 0.0 minutes. These might be missed calls. Whether or not to preprocess these values is up to you; assess how much their absence would affect the results of your analysis.\n",
    "For each user, find:\n",
    "•\tThe number of calls made and minutes used per month\n",
    "•\tThe number of text messages sent per month\n",
    "•\tThe volume of data per month\n",
    "•\tThe monthly revenue from each user (subtract the free package limit from the total number of calls, text messages, and data; multiply the result by the calling plan value; add the monthly charge depending on the calling plan)\n"
   ]
  },
  {
   "cell_type": "markdown",
   "metadata": {},
   "source": [
    "**Step 3. Analyze the data\n",
    "Describe the customers' behavior. Find the minutes, texts, and volume of data the users of each plan require per month. Calculate the mean, dispersion, and standard deviation. Plot histograms. Describe the distributions."
   ]
  },
  {
   "cell_type": "markdown",
   "metadata": {},
   "source": [
    "**Step 4. Test the hypotheses\n",
    "•\tThe average revenue from users of Ultimate and Surf calling plans differs.\n",
    "•\tThe average revenue from users in NY-NJ area is different from that of the users from other regions.\n",
    "You decide what alpha value to use.\n",
    "Explain:\n",
    "•\tHow you formulated the null and alternative hypotheses.\n",
    "•\tWhat criterion you used to test the hypotheses and why.\n",
    "\n"
   ]
  },
  {
   "cell_type": "markdown",
   "metadata": {},
   "source": [
    "**Description of the datesets**\n",
    "Remember! Megaline rounds seconds up to minutes, and megabytes to gigabytes. For calls, each individual call is rounded up: even if the call lasted just one second, it will be counted as one minute. For web traffic, individual web sessions are not rounded up. Instead, the total for the month is rounded up. If someone uses 1025 megabytes this month, they will be charged for 2 gigabytes.\n",
    "The users table (data on users):\n",
    "    •\tuser_id — unique user identifier\n",
    "    •\tfirst_name — user's name\n",
    "    •\tlast_name — user's last name\n",
    "    •\tage — user's age (years)\n",
    "    •\treg_date — subscription date (dd, mm, yy)\n",
    "    •\tchurn_date — the date the user stopped using the service (if the value is missing, the calling plan was being used when         this data was retrieved)\n",
    "    •\tcity — user's city of residence\n",
    "    •\tplan — calling plan name\n",
    "The calls table (data on calls):\n",
    "    •\tid — unique call identifier\n",
    "    •\tcall_date — call date\n",
    "    •\tduration — call duration (in minutes)\n",
    "    •\tuser_id — the identifier of the user making the call\n",
    "The messages table (data on texts):\n",
    "    •\tid — unique text message identifier\n",
    "    •\tmessage_date — text message date\n",
    "    •\tuser_id — the identifier of the user sending the text\n",
    "The internet table (data on web sessions):\n",
    "    •\tid — unique session identifier\n",
    "    •\tmb_used — the volume of data spent during the session (in megabytes)\n",
    "    •\tsession_date — web session date\n",
    "    •\tuser_id — user identifier\n",
    "The plans table (data on the plans):\n",
    "    •\tplan_name — calling plan name\n",
    "    •\tusd_monthly_fee — monthly charge in US dollars\n",
    "    •\tminutes_included — monthly minute allowance\n",
    "    •\tmessages_included — monthly text allowance\n",
    "    •\tmb_per_month_included — data volume allowance (in megabytes)\n",
    "    •\tusd_per_minute — price per minute after exceeding the package limits (e.g., if the package includes 100 minutes, the 101st minute will be charged)\n",
    "    •\tusd_per_message — price per text after exceeding the package limits\n",
    "    •\tusd_per_gb — price per extra gigabyte of data after exceeding the package limits (1 GB = 1024 megabytes)\n"
   ]
  },
  {
   "cell_type": "code",
   "execution_count": 1,
   "metadata": {},
   "outputs": [
    {
     "name": "stdout",
     "output_type": "stream",
     "text": [
      "<class 'pandas.core.frame.DataFrame'>\n",
      "RangeIndex: 137735 entries, 0 to 137734\n",
      "Data columns (total 4 columns):\n",
      "id           137735 non-null object\n",
      "user_id      137735 non-null int32\n",
      "call_date    137735 non-null object\n",
      "duration     137735 non-null float64\n",
      "dtypes: float64(1), int32(1), object(2)\n",
      "memory usage: 3.7+ MB\n",
      "None\n",
      "<class 'pandas.core.frame.DataFrame'>\n",
      "RangeIndex: 104825 entries, 0 to 104824\n",
      "Data columns (total 4 columns):\n",
      "id              104825 non-null object\n",
      "user_id         104825 non-null int32\n",
      "session_date    104825 non-null object\n",
      "mb_used         104825 non-null float64\n",
      "dtypes: float64(1), int32(1), object(2)\n",
      "memory usage: 2.8+ MB\n",
      "None\n",
      "<class 'pandas.core.frame.DataFrame'>\n",
      "RangeIndex: 76051 entries, 0 to 76050\n",
      "Data columns (total 3 columns):\n",
      "id              76051 non-null object\n",
      "user_id         76051 non-null int32\n",
      "message_date    76051 non-null object\n",
      "dtypes: int32(1), object(2)\n",
      "memory usage: 1.5+ MB\n",
      "None\n",
      "<class 'pandas.core.frame.DataFrame'>\n",
      "RangeIndex: 2 entries, 0 to 1\n",
      "Data columns (total 8 columns):\n",
      "messages_included        2 non-null int64\n",
      "mb_per_month_included    2 non-null int64\n",
      "minutes_included         2 non-null int64\n",
      "usd_monthly_pay          2 non-null int64\n",
      "usd_per_gb               2 non-null int64\n",
      "usd_per_message          2 non-null float64\n",
      "usd_per_minute           2 non-null float64\n",
      "plan_name                2 non-null object\n",
      "dtypes: float64(2), int64(5), object(1)\n",
      "memory usage: 256.0+ bytes\n",
      "None\n",
      "<class 'pandas.core.frame.DataFrame'>\n",
      "RangeIndex: 500 entries, 0 to 499\n",
      "Data columns (total 8 columns):\n",
      "user_id       500 non-null int64\n",
      "first_name    500 non-null object\n",
      "last_name     500 non-null object\n",
      "age           500 non-null int64\n",
      "city          500 non-null object\n",
      "reg_date      500 non-null datetime64[ns]\n",
      "plan          500 non-null object\n",
      "churn_date    34 non-null datetime64[ns]\n",
      "dtypes: datetime64[ns](2), int64(2), object(4)\n",
      "memory usage: 31.4+ KB\n",
      "None\n"
     ]
    }
   ],
   "source": [
    "import numpy as np\n",
    "import math\n",
    "import pandas as pd\n",
    "calls = pd.read_csv(r'C:\\Users\\User\\Desktop\\projects\\statistical_da\\megaline_calls.csv')\n",
    "internet = pd.read_csv(r'C:\\Users\\User\\Desktop\\projects\\statistical_da\\megaline_internet.csv')\n",
    "msg = pd.read_csv(r'C:\\Users\\User\\Desktop\\projects\\statistical_da\\megaline_messages.csv')\n",
    "plans = pd.read_csv(r'C:\\Users\\User\\Desktop\\projects\\statistical_da\\megaline_plans.csv')\n",
    "users = pd.read_csv(r'C:\\Users\\User\\Desktop\\projects\\statistical_da\\megaline_users.csv')\n",
    "\n",
    "calls['user_id'] = calls['user_id'].astype('int32')\n",
    "internet['user_id'] = internet['user_id'].astype('int32')\n",
    "msg['user_id'] = msg['user_id'].astype('int32')\n",
    "users['reg_date'] = pd.to_datetime(users['reg_date'], format='%Y-%m-%d')\n",
    "users['churn_date'] = pd.to_datetime(users['churn_date'], format='%Y-%m-%d')\n",
    "print(calls.info())\n",
    "print(internet.info())\n",
    "print(msg.info())\n",
    "print(plans.info())\n",
    "print(users.info())\n",
    "\n",
    "\n"
   ]
  },
  {
   "cell_type": "markdown",
   "metadata": {},
   "source": [
    "STEP 1 **      Firstly, I open all the table and had an overview over the data. I applied .info() method and changed the user_ids to int32 for memory purpose and reg_date and churn_date I converted in datetime type. ** STEP 1"
   ]
  },
  {
   "cell_type": "code",
   "execution_count": 4,
   "metadata": {},
   "outputs": [],
   "source": [
    "calls['duration'] = calls['duration'].apply(np.ceil)\n",
    "plan = users['plan']\n",
    "user_city = users['city']\n",
    "\n",
    "\n",
    "calls['call_date'] = pd.to_datetime(calls['call_date'], format='%Y-%m-%d')\n",
    "internet['session_date'] = pd.to_datetime(internet['session_date'], format='%Y-%m-%d')\n",
    "msg['message_date'] = pd.to_datetime(msg['message_date'], format='%Y-%m-%d')\n",
    "\n",
    "calls['month'] = pd.DatetimeIndex(calls['call_date']).month\n",
    "internet['month'] = pd.DatetimeIndex(internet['session_date']).month\n",
    "msg['month'] = pd.DatetimeIndex(msg['message_date']).month\n"
   ]
  },
  {
   "cell_type": "markdown",
   "metadata": {},
   "source": [
    "STEP 2 **     Then, due to exercise requirements and some small anomalies of data, I change the call duration with ceil() method as it is required and saved two columns (plan and user_city), because they will be needed below. Moreover, I formated the datetime column to a same format to all columns, Year-Month-Day. then from each of this column I extracted only the month as all the study is done only for one year 2018. "
   ]
  },
  {
   "cell_type": "code",
   "execution_count": 5,
   "metadata": {},
   "outputs": [],
   "source": [
    "calls_grouped = calls.groupby(['user_id', 'month']).agg({'duration': 'sum', 'call_date': 'count'}).reset_index()\n",
    "msg_grouped = msg.groupby(['user_id', 'month']).agg({\"message_date\" : 'count'}).reset_index()\n",
    "internet_grouped = internet.groupby(['user_id', 'month']).agg({\"mb_used\" : 'sum'}).reset_index()\n",
    " "
   ]
  },
  {
   "cell_type": "markdown",
   "metadata": {},
   "source": [
    "Above, I created 3 tables, one for minutes used, one for messages used and one for internet used. Each of this is grouped by user_id and month."
   ]
  },
  {
   "cell_type": "code",
   "execution_count": 6,
   "metadata": {},
   "outputs": [
    {
     "name": "stdout",
     "output_type": "stream",
     "text": [
      "      user_id  month  data_gb  minutes_monthly  call_date  messages_monthly  \\\n",
      "0        1000     12      2.0            124.0       16.0              11.0   \n",
      "1        1001      8      7.0            182.0       27.0              30.0   \n",
      "2        1001      9     14.0            315.0       49.0              44.0   \n",
      "3        1001     10     22.0            393.0       65.0              53.0   \n",
      "4        1001     11     19.0            426.0       64.0              36.0   \n",
      "...       ...    ...      ...              ...        ...               ...   \n",
      "2288     1470     11      0.0            632.0       81.0             156.0   \n",
      "2289     1470     12      0.0            592.0       78.0             153.0   \n",
      "2290     1484     11      0.0             38.0        2.0               1.0   \n",
      "2291     1491      4      0.0             44.0        8.0               6.0   \n",
      "2292     1482     10      0.0              0.0        0.0               2.0   \n",
      "\n",
      "          plan                                   city  \n",
      "0     ultimate  Atlanta-Sandy Springs-Roswell, GA MSA  \n",
      "1         surf        Seattle-Tacoma-Bellevue, WA MSA  \n",
      "2         surf   Las Vegas-Henderson-Paradise, NV MSA  \n",
      "3         surf                          Tulsa, OK MSA  \n",
      "4         surf        Seattle-Tacoma-Bellevue, WA MSA  \n",
      "...        ...                                    ...  \n",
      "2288       NaN                                    NaN  \n",
      "2289       NaN                                    NaN  \n",
      "2290       NaN                                    NaN  \n",
      "2291       NaN                                    NaN  \n",
      "2292       NaN                                    NaN  \n",
      "\n",
      "[2293 rows x 8 columns]\n"
     ]
    }
   ],
   "source": [
    "table1 = pd.merge(left=internet_grouped, right=calls_grouped, how='outer', on=['user_id', 'month']).fillna(0)\n",
    "\n",
    "table2 = pd.merge(left=table1, right=msg_grouped, how='outer', on=['user_id', 'month']).fillna(0)\n",
    "table2 = table2.join(plan)\n",
    "table2 = table2.join(user_city)\n",
    "\n",
    "table2.rename(columns={'message_date': 'messages_monthly', 'duration': 'minutes_monthly', 'mb_used': 'data_gb'}, inplace=True)\n",
    "table2['data_gb'] = table2['data_gb'] / 1024\n",
    "table2['data_gb'] = table2['data_gb'].apply(np.ceil)\n",
    "\n",
    "print(table2)"
   ]
  },
  {
   "cell_type": "code",
   "execution_count": 5,
   "metadata": {},
   "outputs": [
    {
     "data": {
      "text/html": [
       "<div>\n",
       "<style scoped>\n",
       "    .dataframe tbody tr th:only-of-type {\n",
       "        vertical-align: middle;\n",
       "    }\n",
       "\n",
       "    .dataframe tbody tr th {\n",
       "        vertical-align: top;\n",
       "    }\n",
       "\n",
       "    .dataframe thead th {\n",
       "        text-align: right;\n",
       "    }\n",
       "</style>\n",
       "<table border=\"1\" class=\"dataframe\">\n",
       "  <thead>\n",
       "    <tr style=\"text-align: right;\">\n",
       "      <th></th>\n",
       "      <th>user_id</th>\n",
       "      <th>month</th>\n",
       "      <th>data_gb</th>\n",
       "      <th>minutes_monthly</th>\n",
       "      <th>call_date</th>\n",
       "      <th>messages_monthly</th>\n",
       "      <th>plan</th>\n",
       "      <th>city</th>\n",
       "    </tr>\n",
       "  </thead>\n",
       "  <tbody>\n",
       "    <tr>\n",
       "      <th>2292</th>\n",
       "      <td>1482</td>\n",
       "      <td>10</td>\n",
       "      <td>0.0</td>\n",
       "      <td>0.0</td>\n",
       "      <td>0.0</td>\n",
       "      <td>2.0</td>\n",
       "      <td>NaN</td>\n",
       "      <td>NaN</td>\n",
       "    </tr>\n",
       "  </tbody>\n",
       "</table>\n",
       "</div>"
      ],
      "text/plain": [
       "      user_id  month  data_gb  minutes_monthly  call_date  messages_monthly  \\\n",
       "2292     1482     10      0.0              0.0        0.0               2.0   \n",
       "\n",
       "     plan city  \n",
       "2292  NaN  NaN  "
      ]
     },
     "execution_count": 5,
     "metadata": {},
     "output_type": "execute_result"
    }
   ],
   "source": [
    "problem_calls_net = table2.query('data_gb == 0 and minutes_monthly == 0')\n",
    "problem_calls_net"
   ]
  },
  {
   "cell_type": "markdown",
   "metadata": {},
   "source": [
    "**Review 3 problem with anomalies with data** . So, from above table I realise that does not exist any user that has a package and has not used any way of communication. Before this I made some calculation only for call durations and internet used. From these research I realised that in some rows the values were 0. I think that in this case it is not a problem with data, it is just a real life situation; the user might not have used for different situations calling minutes or internet. The only occasion where a user has not use calling and internet, both, is the occasion above of user 1482."
   ]
  },
  {
   "cell_type": "code",
   "execution_count": 6,
   "metadata": {},
   "outputs": [
    {
     "data": {
      "text/html": [
       "<div>\n",
       "<style scoped>\n",
       "    .dataframe tbody tr th:only-of-type {\n",
       "        vertical-align: middle;\n",
       "    }\n",
       "\n",
       "    .dataframe tbody tr th {\n",
       "        vertical-align: top;\n",
       "    }\n",
       "\n",
       "    .dataframe thead th {\n",
       "        text-align: right;\n",
       "    }\n",
       "</style>\n",
       "<table border=\"1\" class=\"dataframe\">\n",
       "  <thead>\n",
       "    <tr style=\"text-align: right;\">\n",
       "      <th></th>\n",
       "      <th>user_id</th>\n",
       "      <th>month</th>\n",
       "      <th>data_gb</th>\n",
       "      <th>minutes_monthly</th>\n",
       "      <th>call_date</th>\n",
       "      <th>messages_monthly</th>\n",
       "    </tr>\n",
       "  </thead>\n",
       "  <tbody>\n",
       "    <tr>\n",
       "      <th>count</th>\n",
       "      <td>2293.000000</td>\n",
       "      <td>2293.000000</td>\n",
       "      <td>2293.000000</td>\n",
       "      <td>2293.000000</td>\n",
       "      <td>2293.000000</td>\n",
       "      <td>2293.000000</td>\n",
       "    </tr>\n",
       "    <tr>\n",
       "      <th>mean</th>\n",
       "      <td>1246.075883</td>\n",
       "      <td>9.172700</td>\n",
       "      <td>16.870475</td>\n",
       "      <td>429.283471</td>\n",
       "      <td>60.067597</td>\n",
       "      <td>33.166594</td>\n",
       "    </tr>\n",
       "    <tr>\n",
       "      <th>std</th>\n",
       "      <td>143.051927</td>\n",
       "      <td>2.496386</td>\n",
       "      <td>7.796174</td>\n",
       "      <td>236.320077</td>\n",
       "      <td>32.402563</td>\n",
       "      <td>34.070085</td>\n",
       "    </tr>\n",
       "    <tr>\n",
       "      <th>min</th>\n",
       "      <td>1000.000000</td>\n",
       "      <td>1.000000</td>\n",
       "      <td>0.000000</td>\n",
       "      <td>0.000000</td>\n",
       "      <td>0.000000</td>\n",
       "      <td>0.000000</td>\n",
       "    </tr>\n",
       "    <tr>\n",
       "      <th>25%</th>\n",
       "      <td>1122.000000</td>\n",
       "      <td>8.000000</td>\n",
       "      <td>12.000000</td>\n",
       "      <td>265.000000</td>\n",
       "      <td>38.000000</td>\n",
       "      <td>3.000000</td>\n",
       "    </tr>\n",
       "    <tr>\n",
       "      <th>50%</th>\n",
       "      <td>1245.000000</td>\n",
       "      <td>10.000000</td>\n",
       "      <td>17.000000</td>\n",
       "      <td>425.000000</td>\n",
       "      <td>60.000000</td>\n",
       "      <td>26.000000</td>\n",
       "    </tr>\n",
       "    <tr>\n",
       "      <th>75%</th>\n",
       "      <td>1368.000000</td>\n",
       "      <td>11.000000</td>\n",
       "      <td>21.000000</td>\n",
       "      <td>572.000000</td>\n",
       "      <td>79.000000</td>\n",
       "      <td>51.000000</td>\n",
       "    </tr>\n",
       "    <tr>\n",
       "      <th>max</th>\n",
       "      <td>1499.000000</td>\n",
       "      <td>12.000000</td>\n",
       "      <td>70.000000</td>\n",
       "      <td>1510.000000</td>\n",
       "      <td>205.000000</td>\n",
       "      <td>266.000000</td>\n",
       "    </tr>\n",
       "  </tbody>\n",
       "</table>\n",
       "</div>"
      ],
      "text/plain": [
       "           user_id        month      data_gb  minutes_monthly    call_date  \\\n",
       "count  2293.000000  2293.000000  2293.000000      2293.000000  2293.000000   \n",
       "mean   1246.075883     9.172700    16.870475       429.283471    60.067597   \n",
       "std     143.051927     2.496386     7.796174       236.320077    32.402563   \n",
       "min    1000.000000     1.000000     0.000000         0.000000     0.000000   \n",
       "25%    1122.000000     8.000000    12.000000       265.000000    38.000000   \n",
       "50%    1245.000000    10.000000    17.000000       425.000000    60.000000   \n",
       "75%    1368.000000    11.000000    21.000000       572.000000    79.000000   \n",
       "max    1499.000000    12.000000    70.000000      1510.000000   205.000000   \n",
       "\n",
       "       messages_monthly  \n",
       "count       2293.000000  \n",
       "mean          33.166594  \n",
       "std           34.070085  \n",
       "min            0.000000  \n",
       "25%            3.000000  \n",
       "50%           26.000000  \n",
       "75%           51.000000  \n",
       "max          266.000000  "
      ]
     },
     "execution_count": 6,
     "metadata": {},
     "output_type": "execute_result"
    }
   ],
   "source": [
    "table2.describe()"
   ]
  },
  {
   "cell_type": "markdown",
   "metadata": {},
   "source": [
    "At this part, I created a big table. First I merged minutes used with messages used by user, then I added internet used. All this merge can be done as they are grouped with same attributes. I filled the NaN values with 0 so I can make calculation with data. Also attributes that I used it are not attributes like age, where it could be a problem. When I used above describe method I see that where I have added 0 as a replacement fro Nan values, 0 is the min value, which as I have read it is a proof that replacement with 0 is a good choice. (https://towardsdatascience.com/whats-the-best-way-to-handle-nan-values-62d50f738fc)"
   ]
  },
  {
   "cell_type": "code",
   "execution_count": 7,
   "metadata": {},
   "outputs": [
    {
     "data": {
      "text/html": [
       "<div>\n",
       "<style scoped>\n",
       "    .dataframe tbody tr th:only-of-type {\n",
       "        vertical-align: middle;\n",
       "    }\n",
       "\n",
       "    .dataframe tbody tr th {\n",
       "        vertical-align: top;\n",
       "    }\n",
       "\n",
       "    .dataframe thead th {\n",
       "        text-align: right;\n",
       "    }\n",
       "</style>\n",
       "<table border=\"1\" class=\"dataframe\">\n",
       "  <thead>\n",
       "    <tr style=\"text-align: right;\">\n",
       "      <th></th>\n",
       "      <th>user_id</th>\n",
       "      <th>month</th>\n",
       "      <th>data_gb</th>\n",
       "      <th>minutes_monthly</th>\n",
       "      <th>call_date</th>\n",
       "      <th>messages_monthly</th>\n",
       "      <th>plan</th>\n",
       "      <th>city</th>\n",
       "      <th>minutes_cost</th>\n",
       "      <th>messages_cost</th>\n",
       "      <th>internet_cost</th>\n",
       "      <th>total_revenue</th>\n",
       "    </tr>\n",
       "  </thead>\n",
       "  <tbody>\n",
       "    <tr>\n",
       "      <th>0</th>\n",
       "      <td>1000</td>\n",
       "      <td>12</td>\n",
       "      <td>2.0</td>\n",
       "      <td>124.0</td>\n",
       "      <td>16.0</td>\n",
       "      <td>11.0</td>\n",
       "      <td>ultimate</td>\n",
       "      <td>Atlanta-Sandy Springs-Roswell, GA MSA</td>\n",
       "      <td>0.0</td>\n",
       "      <td>0.00</td>\n",
       "      <td>0.0</td>\n",
       "      <td>70.00</td>\n",
       "    </tr>\n",
       "    <tr>\n",
       "      <th>1</th>\n",
       "      <td>1001</td>\n",
       "      <td>8</td>\n",
       "      <td>7.0</td>\n",
       "      <td>182.0</td>\n",
       "      <td>27.0</td>\n",
       "      <td>30.0</td>\n",
       "      <td>surf</td>\n",
       "      <td>Seattle-Tacoma-Bellevue, WA MSA</td>\n",
       "      <td>0.0</td>\n",
       "      <td>0.00</td>\n",
       "      <td>0.0</td>\n",
       "      <td>20.00</td>\n",
       "    </tr>\n",
       "    <tr>\n",
       "      <th>2</th>\n",
       "      <td>1001</td>\n",
       "      <td>9</td>\n",
       "      <td>14.0</td>\n",
       "      <td>315.0</td>\n",
       "      <td>49.0</td>\n",
       "      <td>44.0</td>\n",
       "      <td>surf</td>\n",
       "      <td>Las Vegas-Henderson-Paradise, NV MSA</td>\n",
       "      <td>0.0</td>\n",
       "      <td>0.00</td>\n",
       "      <td>0.0</td>\n",
       "      <td>20.00</td>\n",
       "    </tr>\n",
       "    <tr>\n",
       "      <th>3</th>\n",
       "      <td>1001</td>\n",
       "      <td>10</td>\n",
       "      <td>22.0</td>\n",
       "      <td>393.0</td>\n",
       "      <td>65.0</td>\n",
       "      <td>53.0</td>\n",
       "      <td>surf</td>\n",
       "      <td>Tulsa, OK MSA</td>\n",
       "      <td>0.0</td>\n",
       "      <td>0.09</td>\n",
       "      <td>70.0</td>\n",
       "      <td>90.09</td>\n",
       "    </tr>\n",
       "    <tr>\n",
       "      <th>4</th>\n",
       "      <td>1001</td>\n",
       "      <td>11</td>\n",
       "      <td>19.0</td>\n",
       "      <td>426.0</td>\n",
       "      <td>64.0</td>\n",
       "      <td>36.0</td>\n",
       "      <td>surf</td>\n",
       "      <td>Seattle-Tacoma-Bellevue, WA MSA</td>\n",
       "      <td>0.0</td>\n",
       "      <td>0.00</td>\n",
       "      <td>40.0</td>\n",
       "      <td>60.00</td>\n",
       "    </tr>\n",
       "    <tr>\n",
       "      <th>...</th>\n",
       "      <td>...</td>\n",
       "      <td>...</td>\n",
       "      <td>...</td>\n",
       "      <td>...</td>\n",
       "      <td>...</td>\n",
       "      <td>...</td>\n",
       "      <td>...</td>\n",
       "      <td>...</td>\n",
       "      <td>...</td>\n",
       "      <td>...</td>\n",
       "      <td>...</td>\n",
       "      <td>...</td>\n",
       "    </tr>\n",
       "    <tr>\n",
       "      <th>2288</th>\n",
       "      <td>1470</td>\n",
       "      <td>11</td>\n",
       "      <td>0.0</td>\n",
       "      <td>632.0</td>\n",
       "      <td>81.0</td>\n",
       "      <td>156.0</td>\n",
       "      <td>NaN</td>\n",
       "      <td>NaN</td>\n",
       "      <td>NaN</td>\n",
       "      <td>NaN</td>\n",
       "      <td>NaN</td>\n",
       "      <td>NaN</td>\n",
       "    </tr>\n",
       "    <tr>\n",
       "      <th>2289</th>\n",
       "      <td>1470</td>\n",
       "      <td>12</td>\n",
       "      <td>0.0</td>\n",
       "      <td>592.0</td>\n",
       "      <td>78.0</td>\n",
       "      <td>153.0</td>\n",
       "      <td>NaN</td>\n",
       "      <td>NaN</td>\n",
       "      <td>NaN</td>\n",
       "      <td>NaN</td>\n",
       "      <td>NaN</td>\n",
       "      <td>NaN</td>\n",
       "    </tr>\n",
       "    <tr>\n",
       "      <th>2290</th>\n",
       "      <td>1484</td>\n",
       "      <td>11</td>\n",
       "      <td>0.0</td>\n",
       "      <td>38.0</td>\n",
       "      <td>2.0</td>\n",
       "      <td>1.0</td>\n",
       "      <td>NaN</td>\n",
       "      <td>NaN</td>\n",
       "      <td>NaN</td>\n",
       "      <td>NaN</td>\n",
       "      <td>NaN</td>\n",
       "      <td>NaN</td>\n",
       "    </tr>\n",
       "    <tr>\n",
       "      <th>2291</th>\n",
       "      <td>1491</td>\n",
       "      <td>4</td>\n",
       "      <td>0.0</td>\n",
       "      <td>44.0</td>\n",
       "      <td>8.0</td>\n",
       "      <td>6.0</td>\n",
       "      <td>NaN</td>\n",
       "      <td>NaN</td>\n",
       "      <td>NaN</td>\n",
       "      <td>NaN</td>\n",
       "      <td>NaN</td>\n",
       "      <td>NaN</td>\n",
       "    </tr>\n",
       "    <tr>\n",
       "      <th>2292</th>\n",
       "      <td>1482</td>\n",
       "      <td>10</td>\n",
       "      <td>0.0</td>\n",
       "      <td>0.0</td>\n",
       "      <td>0.0</td>\n",
       "      <td>2.0</td>\n",
       "      <td>NaN</td>\n",
       "      <td>NaN</td>\n",
       "      <td>NaN</td>\n",
       "      <td>NaN</td>\n",
       "      <td>NaN</td>\n",
       "      <td>NaN</td>\n",
       "    </tr>\n",
       "  </tbody>\n",
       "</table>\n",
       "<p>2293 rows × 12 columns</p>\n",
       "</div>"
      ],
      "text/plain": [
       "      user_id  month  data_gb  minutes_monthly  call_date  messages_monthly  \\\n",
       "0        1000     12      2.0            124.0       16.0              11.0   \n",
       "1        1001      8      7.0            182.0       27.0              30.0   \n",
       "2        1001      9     14.0            315.0       49.0              44.0   \n",
       "3        1001     10     22.0            393.0       65.0              53.0   \n",
       "4        1001     11     19.0            426.0       64.0              36.0   \n",
       "...       ...    ...      ...              ...        ...               ...   \n",
       "2288     1470     11      0.0            632.0       81.0             156.0   \n",
       "2289     1470     12      0.0            592.0       78.0             153.0   \n",
       "2290     1484     11      0.0             38.0        2.0               1.0   \n",
       "2291     1491      4      0.0             44.0        8.0               6.0   \n",
       "2292     1482     10      0.0              0.0        0.0               2.0   \n",
       "\n",
       "          plan                                   city  minutes_cost  \\\n",
       "0     ultimate  Atlanta-Sandy Springs-Roswell, GA MSA           0.0   \n",
       "1         surf        Seattle-Tacoma-Bellevue, WA MSA           0.0   \n",
       "2         surf   Las Vegas-Henderson-Paradise, NV MSA           0.0   \n",
       "3         surf                          Tulsa, OK MSA           0.0   \n",
       "4         surf        Seattle-Tacoma-Bellevue, WA MSA           0.0   \n",
       "...        ...                                    ...           ...   \n",
       "2288       NaN                                    NaN           NaN   \n",
       "2289       NaN                                    NaN           NaN   \n",
       "2290       NaN                                    NaN           NaN   \n",
       "2291       NaN                                    NaN           NaN   \n",
       "2292       NaN                                    NaN           NaN   \n",
       "\n",
       "      messages_cost  internet_cost  total_revenue  \n",
       "0              0.00            0.0          70.00  \n",
       "1              0.00            0.0          20.00  \n",
       "2              0.00            0.0          20.00  \n",
       "3              0.09           70.0          90.09  \n",
       "4              0.00           40.0          60.00  \n",
       "...             ...            ...            ...  \n",
       "2288            NaN            NaN            NaN  \n",
       "2289            NaN            NaN            NaN  \n",
       "2290            NaN            NaN            NaN  \n",
       "2291            NaN            NaN            NaN  \n",
       "2292            NaN            NaN            NaN  \n",
       "\n",
       "[2293 rows x 12 columns]"
      ]
     },
     "execution_count": 7,
     "metadata": {},
     "output_type": "execute_result"
    }
   ],
   "source": [
    "\n",
    "def revenue_minutes(row):\n",
    "    plan = row['plan']\n",
    "    minutes_monthly = row['minutes_monthly']\n",
    "    if plan == 'surf':\n",
    "        if minutes_monthly > 500:\n",
    "            return ((minutes_monthly - 500) * 0.03)\n",
    "        else:\n",
    "            return (0)\n",
    "    elif plan == 'ultimate':\n",
    "        if minutes_monthly > 3000:\n",
    "            return ((minutes_monthly - 3000) * 0.01)\n",
    "        else:\n",
    "            return (0)\n",
    "\n",
    "table2['minutes_cost'] = table2.apply(revenue_minutes, axis=1)\n",
    "\n",
    "def revenue_messages(row):\n",
    "    plan = row['plan']\n",
    "    messages_monthly = row['messages_monthly']\n",
    "    if plan == 'surf':\n",
    "        if messages_monthly > 50:\n",
    "            return ((messages_monthly - 50) * 0.03)\n",
    "        else:\n",
    "            return (0)\n",
    "    elif plan == 'ultimate':\n",
    "        if messages_monthly > 1000:\n",
    "            return ((messages_monthly - 1000) * 0.01)\n",
    "        else:\n",
    "            return (0)\n",
    "        \n",
    "table2['messages_cost'] = table2.apply(revenue_messages, axis=1)\n",
    "\n",
    "def revenue_internet(row):\n",
    "    plan = row['plan']\n",
    "    internet_monthly = row['data_gb']\n",
    "    if plan == 'surf':\n",
    "        if internet_monthly > 15:\n",
    "            return ((internet_monthly - 15) * 10)\n",
    "        else:\n",
    "            return (0)\n",
    "    elif plan == 'ultimate':\n",
    "        if internet_monthly > 30:\n",
    "            return ((internet_monthly - 30) * 7)\n",
    "        else:\n",
    "            return (0)\n",
    "        \n",
    "\n",
    "\n",
    "table2['internet_cost'] = table2.apply(revenue_internet, axis=1)\n",
    "def total_revenue(row):\n",
    "    plan=row['plan']\n",
    "    minute=row['minutes_cost']\n",
    "    message=row['messages_cost']\n",
    "    innet=row['internet_cost']\n",
    "    if plan == 'surf':\n",
    "        return (minute + message + innet + 20)\n",
    "    elif plan == 'ultimate':\n",
    "        return (minute + message + innet + 70)\n",
    "table2['total_revenue'] = table2.apply(total_revenue, axis=1)\n",
    "\n",
    "table2"
   ]
  },
  {
   "cell_type": "markdown",
   "metadata": {},
   "source": [
    "Here I created thre functions, each for revenues of calls, messages and internet, based on their plan. Each function I applied to respective function so data_gb to internet_cost, minutes_monthly to minutes_cost and mesages_monthly to messages_cost. At each function, I accessed each row of plan column and respective minutes, messages and internet usde per month. ** STEP 2"
   ]
  },
  {
   "cell_type": "markdown",
   "metadata": {},
   "source": [
    "**STEP 3  I wrote the code below to update libraries."
   ]
  },
  {
   "cell_type": "code",
   "execution_count": 8,
   "metadata": {},
   "outputs": [
    {
     "name": "stdout",
     "output_type": "stream",
     "text": [
      "Defaulting to user installation because normal site-packages is not writeable\n",
      "Requirement already up-to-date: matplotlib in /home/jovyan/.local/lib/python3.7/site-packages (3.3.4)\n",
      "Requirement already satisfied, skipping upgrade: pyparsing!=2.0.4,!=2.1.2,!=2.1.6,>=2.0.3 in /opt/conda/lib/python3.7/site-packages (from matplotlib) (2.4.7)\n",
      "Requirement already satisfied, skipping upgrade: kiwisolver>=1.0.1 in /opt/conda/lib/python3.7/site-packages (from matplotlib) (1.3.1)\n",
      "Requirement already satisfied, skipping upgrade: cycler>=0.10 in /opt/conda/lib/python3.7/site-packages (from matplotlib) (0.10.0)\n",
      "Requirement already satisfied, skipping upgrade: python-dateutil>=2.1 in /opt/conda/lib/python3.7/site-packages (from matplotlib) (2.8.1)\n",
      "Requirement already satisfied, skipping upgrade: numpy>=1.15 in /home/jovyan/.local/lib/python3.7/site-packages (from matplotlib) (1.20.1)\n",
      "Requirement already satisfied, skipping upgrade: pillow>=6.2.0 in /opt/conda/lib/python3.7/site-packages (from matplotlib) (7.0.0)\n",
      "Requirement already satisfied, skipping upgrade: six in /opt/conda/lib/python3.7/site-packages (from cycler>=0.10->matplotlib) (1.15.0)\n",
      "Defaulting to user installation because normal site-packages is not writeable\n",
      "Requirement already up-to-date: pandas in /home/jovyan/.local/lib/python3.7/site-packages (1.2.2)\n",
      "Requirement already satisfied, skipping upgrade: pytz>=2017.3 in /opt/conda/lib/python3.7/site-packages (from pandas) (2021.1)\n",
      "Requirement already satisfied, skipping upgrade: python-dateutil>=2.7.3 in /opt/conda/lib/python3.7/site-packages (from pandas) (2.8.1)\n",
      "Requirement already satisfied, skipping upgrade: numpy>=1.16.5 in /home/jovyan/.local/lib/python3.7/site-packages (from pandas) (1.20.1)\n",
      "Requirement already satisfied, skipping upgrade: six>=1.5 in /opt/conda/lib/python3.7/site-packages (from python-dateutil>=2.7.3->pandas) (1.15.0)\n",
      "Defaulting to user installation because normal site-packages is not writeable\n",
      "Requirement already up-to-date: numpy in /home/jovyan/.local/lib/python3.7/site-packages (1.20.1)\n",
      "Defaulting to user installation because normal site-packages is not writeable\n",
      "Requirement already up-to-date: spicy in /home/jovyan/.local/lib/python3.7/site-packages (0.16.0)\n",
      "Requirement already satisfied, skipping upgrade: scipy in /opt/conda/lib/python3.7/site-packages (from spicy) (1.4.1)\n",
      "Requirement already satisfied, skipping upgrade: numpy>=1.13.3 in /home/jovyan/.local/lib/python3.7/site-packages (from scipy->spicy) (1.20.1)\n",
      "Defaulting to user installation because normal site-packages is not writeable\n",
      "Requirement already up-to-date: plotly in /home/jovyan/.local/lib/python3.7/site-packages (4.14.3)\n",
      "Requirement already satisfied, skipping upgrade: six in /opt/conda/lib/python3.7/site-packages (from plotly) (1.15.0)\n",
      "Requirement already satisfied, skipping upgrade: retrying>=1.3.3 in /opt/conda/lib/python3.7/site-packages (from plotly) (1.3.3)\n",
      "Defaulting to user installation because normal site-packages is not writeable\n",
      "Requirement already satisfied: chart_studio in /home/jovyan/.local/lib/python3.7/site-packages (1.1.0)\n",
      "Requirement already satisfied: requests in /opt/conda/lib/python3.7/site-packages (from chart_studio) (2.22.0)\n",
      "Requirement already satisfied: plotly in /home/jovyan/.local/lib/python3.7/site-packages (from chart_studio) (4.14.3)\n",
      "Requirement already satisfied: six in /opt/conda/lib/python3.7/site-packages (from chart_studio) (1.15.0)\n",
      "Requirement already satisfied: retrying>=1.3.3 in /opt/conda/lib/python3.7/site-packages (from chart_studio) (1.3.3)\n",
      "Requirement already satisfied: certifi>=2017.4.17 in /opt/conda/lib/python3.7/site-packages (from requests->chart_studio) (2020.12.5)\n",
      "Requirement already satisfied: urllib3!=1.25.0,!=1.25.1,<1.26,>=1.21.1 in /opt/conda/lib/python3.7/site-packages (from requests->chart_studio) (1.25.9)\n",
      "Requirement already satisfied: idna<2.9,>=2.5 in /opt/conda/lib/python3.7/site-packages (from requests->chart_studio) (2.8)\n",
      "Requirement already satisfied: chardet<3.1.0,>=3.0.2 in /opt/conda/lib/python3.7/site-packages (from requests->chart_studio) (3.0.4)\n"
     ]
    },
    {
     "name": "stderr",
     "output_type": "stream",
     "text": [
      "/opt/conda/lib/python3.7/site-packages/statsmodels/tools/_testing.py:19: FutureWarning: pandas.util.testing is deprecated. Use the functions in the public API at pandas.testing instead.\n",
      "  import pandas.util.testing as tm\n"
     ]
    },
    {
     "data": {
      "text/plain": [
       "<matplotlib.legend.Legend at 0x7f20207d2410>"
      ]
     },
     "execution_count": 8,
     "metadata": {},
     "output_type": "execute_result"
    },
    {
     "data": {
      "image/png": "[encoded data removed]",
      "text/plain": [
       "<Figure size 432x288 with 1 Axes>"
      ]
     },
     "metadata": {
      "needs_background": "light"
     },
     "output_type": "display_data"
    }
   ],
   "source": [
    "!pip install matplotlib -U\n",
    "!pip install pandas -U\n",
    "!pip install numpy -U\n",
    "!pip install spicy -U\n",
    "!pip install plotly -U\n",
    "!pip install chart_studio\n",
    "import seaborn as sns\n",
    "import matplotlib.pyplot as plt\n",
    "import spicy as st\n",
    "minutes_based_on_plan = table2.pivot_table(index=['user_id', 'month'],columns='plan', values='minutes_monthly', aggfunc='median')\n",
    "#print(minutes_based_on_plan.head())\n",
    "plt.hist(minutes_based_on_plan, alpha=0.6, label=['surf', 'ultimate'])\n",
    "plt.title('Minutes used between two packages: Surf vs Ultimate')\n",
    "plt.xlabel('Surf vs Ultimate')\n",
    "plt.ylabel('Frequecy')\n",
    "plt.legend()"
   ]
  },
  {
   "cell_type": "markdown",
   "metadata": {},
   "source": [
    "From the histogram above, we see that data has some outliers at above 1100 minutes. Data is negatively skewed. From the graph, most of surf users use about 400 minutes per month and ultimate users mainly use between 300 to 400 minutes per month. For the 2 packets we have a binomial distribution, which I state based on the graphs' shape."
   ]
  },
  {
   "cell_type": "code",
   "execution_count": 9,
   "metadata": {},
   "outputs": [
    {
     "data": {
      "text/plain": [
       "<AxesSubplot:ylabel='surf'>"
      ]
     },
     "execution_count": 9,
     "metadata": {},
     "output_type": "execute_result"
    },
    {
     "data": {
      "image/png": "[encoded data removed]",
      "text/plain": [
       "<Figure size 432x288 with 1 Axes>"
      ]
     },
     "metadata": {
      "needs_background": "light"
     },
     "output_type": "display_data"
    }
   ],
   "source": [
    "sns.boxplot(y=minutes_based_on_plan['surf'])\n",
    "\n"
   ]
  },
  {
   "cell_type": "markdown",
   "metadata": {},
   "source": [
    "Outliers are above 950 minutes, as I see from the boxplot. Surf Package"
   ]
  },
  {
   "cell_type": "code",
   "execution_count": 10,
   "metadata": {},
   "outputs": [
    {
     "data": {
      "text/plain": [
       "<AxesSubplot:ylabel='ultimate'>"
      ]
     },
     "execution_count": 10,
     "metadata": {},
     "output_type": "execute_result"
    },
    {
     "data": {
      "image/png": "[encoded data removed]",
      "text/plain": [
       "<Figure size 432x288 with 1 Axes>"
      ]
     },
     "metadata": {
      "needs_background": "light"
     },
     "output_type": "display_data"
    }
   ],
   "source": [
    "sns.boxplot(y=minutes_based_on_plan['ultimate'])"
   ]
  },
  {
   "cell_type": "markdown",
   "metadata": {},
   "source": [
    "Outliers are above 1100 minutes in the ultimate package."
   ]
  },
  {
   "cell_type": "code",
   "execution_count": 11,
   "metadata": {},
   "outputs": [
    {
     "data": {
      "text/plain": [
       "<matplotlib.legend.Legend at 0x7f202051af50>"
      ]
     },
     "execution_count": 11,
     "metadata": {},
     "output_type": "execute_result"
    },
    {
     "data": {
      "image/png": "[encoded data removed]",
      "text/plain": [
       "<Figure size 432x288 with 1 Axes>"
      ]
     },
     "metadata": {
      "needs_background": "light"
     },
     "output_type": "display_data"
    }
   ],
   "source": [
    "messages_based_on_plan = table2.pivot_table(index=['user_id', 'month'],columns='plan', values='messages_monthly', aggfunc='median')\n",
    "#print(messages_based_on_plan.head())\n",
    "plt.hist(messages_based_on_plan, alpha=0.6, label=['surf', 'ultimate'])\n",
    "plt.title('Messages used between two packages: Surf vs Ultimate')\n",
    "plt.xlabel('Surf vs Ultimate')\n",
    "plt.ylabel('Frequecy')\n",
    "plt.legend()"
   ]
  },
  {
   "cell_type": "markdown",
   "metadata": {},
   "source": [
    "From the histogram above, we see that data has some outliers at above 150 messages. Data is negatively skewed. From the graph, most of surf users use about 5 to 10 messages per month and ultimate users mainly use the same amount per month. For the 2 packages we have a exponential distribution."
   ]
  },
  {
   "cell_type": "code",
   "execution_count": 12,
   "metadata": {},
   "outputs": [
    {
     "data": {
      "text/plain": [
       "<AxesSubplot:ylabel='surf'>"
      ]
     },
     "execution_count": 12,
     "metadata": {},
     "output_type": "execute_result"
    },
    {
     "data": {
      "image/png": "[encoded data removed]",
      "text/plain": [
       "<Figure size 432x288 with 1 Axes>"
      ]
     },
     "metadata": {
      "needs_background": "light"
     },
     "output_type": "display_data"
    }
   ],
   "source": [
    "sns.boxplot(y=messages_based_on_plan['surf'])"
   ]
  },
  {
   "cell_type": "markdown",
   "metadata": {},
   "source": [
    "Outliers for surf are above 130 messages."
   ]
  },
  {
   "cell_type": "code",
   "execution_count": 13,
   "metadata": {},
   "outputs": [
    {
     "data": {
      "text/plain": [
       "<AxesSubplot:ylabel='ultimate'>"
      ]
     },
     "execution_count": 13,
     "metadata": {},
     "output_type": "execute_result"
    },
    {
     "data": {
      "image/png": "[encoded data removed]",
      "text/plain": [
       "<Figure size 432x288 with 1 Axes>"
      ]
     },
     "metadata": {
      "needs_background": "light"
     },
     "output_type": "display_data"
    }
   ],
   "source": [
    "sns.boxplot(y=messages_based_on_plan['ultimate']) "
   ]
  },
  {
   "cell_type": "markdown",
   "metadata": {},
   "source": [
    "Outliers for ultimate are above 130 aswell."
   ]
  },
  {
   "cell_type": "code",
   "execution_count": 14,
   "metadata": {},
   "outputs": [
    {
     "data": {
      "text/plain": [
       "<matplotlib.legend.Legend at 0x7f20203b63d0>"
      ]
     },
     "execution_count": 14,
     "metadata": {},
     "output_type": "execute_result"
    },
    {
     "data": {
      "image/png": "[encoded data removed]",
      "text/plain": [
       "<Figure size 432x288 with 1 Axes>"
      ]
     },
     "metadata": {
      "needs_background": "light"
     },
     "output_type": "display_data"
    }
   ],
   "source": [
    "net_based_on_plan = table2.pivot_table(index=['user_id', 'month'],columns='plan', values='data_gb', aggfunc='median')\n",
    "#print(net_based_on_plan.head())\n",
    "plt.hist(net_based_on_plan, alpha=0.6, label=['surf', 'ultimate'])\n",
    "plt.title('Internet used between two packages: Surf vs Ultimate')\n",
    "plt.xlabel('Surf vs Ultimate')\n",
    "plt.ylabel('Frequecy')\n",
    "plt.legend()"
   ]
  },
  {
   "cell_type": "markdown",
   "metadata": {},
   "source": [
    "From the histogram above, we see that data has some outliers at above 45 Gb data. Data has a light negative skew. From the graph, most of surf users use about 20 Gb per month and ultimate users mainly use between 12 to 22 Gb per month. In the ultimate graph we have a normal distribution, in surf one we have a binomial distribution."
   ]
  },
  {
   "cell_type": "code",
   "execution_count": 15,
   "metadata": {},
   "outputs": [
    {
     "data": {
      "text/plain": [
       "<AxesSubplot:ylabel='surf'>"
      ]
     },
     "execution_count": 15,
     "metadata": {},
     "output_type": "execute_result"
    },
    {
     "data": {
      "image/png": "[encoded data removed]",
      "text/plain": [
       "<Figure size 432x288 with 1 Axes>"
      ]
     },
     "metadata": {
      "needs_background": "light"
     },
     "output_type": "display_data"
    }
   ],
   "source": [
    "sns.boxplot(y=net_based_on_plan['surf'])"
   ]
  },
  {
   "cell_type": "markdown",
   "metadata": {},
   "source": [
    "Outliers are above 32 Gb for surf package."
   ]
  },
  {
   "cell_type": "code",
   "execution_count": 16,
   "metadata": {},
   "outputs": [
    {
     "data": {
      "text/plain": [
       "<AxesSubplot:ylabel='ultimate'>"
      ]
     },
     "execution_count": 16,
     "metadata": {},
     "output_type": "execute_result"
    },
    {
     "data": {
      "image/png": "[encoded data removed]",
      "text/plain": [
       "<Figure size 432x288 with 1 Axes>"
      ]
     },
     "metadata": {
      "needs_background": "light"
     },
     "output_type": "display_data"
    }
   ],
   "source": [
    "sns.boxplot(y=net_based_on_plan['ultimate'])"
   ]
  },
  {
   "cell_type": "markdown",
   "metadata": {},
   "source": [
    "Outliers are above 35 Gb for ultimate package."
   ]
  },
  {
   "cell_type": "markdown",
   "metadata": {},
   "source": [
    "Below are the dispersion, mean and std."
   ]
  },
  {
   "cell_type": "code",
   "execution_count": 17,
   "metadata": {},
   "outputs": [
    {
     "data": {
      "text/html": [
       "<div>\n",
       "<style scoped>\n",
       "    .dataframe tbody tr th:only-of-type {\n",
       "        vertical-align: middle;\n",
       "    }\n",
       "\n",
       "    .dataframe tbody tr th {\n",
       "        vertical-align: top;\n",
       "    }\n",
       "\n",
       "    .dataframe thead th {\n",
       "        text-align: right;\n",
       "    }\n",
       "</style>\n",
       "<table border=\"1\" class=\"dataframe\">\n",
       "  <thead>\n",
       "    <tr style=\"text-align: right;\">\n",
       "      <th>plan</th>\n",
       "      <th>surf</th>\n",
       "      <th>ultimate</th>\n",
       "    </tr>\n",
       "  </thead>\n",
       "  <tbody>\n",
       "    <tr>\n",
       "      <th>count</th>\n",
       "      <td>339.000000</td>\n",
       "      <td>161.000000</td>\n",
       "    </tr>\n",
       "    <tr>\n",
       "      <th>mean</th>\n",
       "      <td>395.575221</td>\n",
       "      <td>404.242236</td>\n",
       "    </tr>\n",
       "    <tr>\n",
       "      <th>std</th>\n",
       "      <td>222.048950</td>\n",
       "      <td>241.317912</td>\n",
       "    </tr>\n",
       "    <tr>\n",
       "      <th>min</th>\n",
       "      <td>0.000000</td>\n",
       "      <td>0.000000</td>\n",
       "    </tr>\n",
       "    <tr>\n",
       "      <th>25%</th>\n",
       "      <td>230.500000</td>\n",
       "      <td>214.000000</td>\n",
       "    </tr>\n",
       "    <tr>\n",
       "      <th>50%</th>\n",
       "      <td>393.000000</td>\n",
       "      <td>380.000000</td>\n",
       "    </tr>\n",
       "    <tr>\n",
       "      <th>75%</th>\n",
       "      <td>515.000000</td>\n",
       "      <td>564.000000</td>\n",
       "    </tr>\n",
       "    <tr>\n",
       "      <th>max</th>\n",
       "      <td>1200.000000</td>\n",
       "      <td>1173.000000</td>\n",
       "    </tr>\n",
       "  </tbody>\n",
       "</table>\n",
       "</div>"
      ],
      "text/plain": [
       "plan          surf     ultimate\n",
       "count   339.000000   161.000000\n",
       "mean    395.575221   404.242236\n",
       "std     222.048950   241.317912\n",
       "min       0.000000     0.000000\n",
       "25%     230.500000   214.000000\n",
       "50%     393.000000   380.000000\n",
       "75%     515.000000   564.000000\n",
       "max    1200.000000  1173.000000"
      ]
     },
     "execution_count": 17,
     "metadata": {},
     "output_type": "execute_result"
    }
   ],
   "source": [
    "minutes_based_on_plan.describe()"
   ]
  },
  {
   "cell_type": "markdown",
   "metadata": {},
   "source": [
    "From the table above, we see that minutes in surf packet have a more normal distribution than ultimate packet, as mean and median are closer to aech other in value at surf plan. Mean is 395 for surf and 404 for ultimate. They have a high standard deviation, whchich is normal as the data is far from the mean value. Dispersion is the IQR value.\n",
    "std(surf) = 222.04       IQR = 515 - 230.5\n",
    "std(ultimate) = 241.31   IQR = 564 - 214"
   ]
  },
  {
   "cell_type": "code",
   "execution_count": 18,
   "metadata": {},
   "outputs": [
    {
     "data": {
      "text/html": [
       "<div>\n",
       "<style scoped>\n",
       "    .dataframe tbody tr th:only-of-type {\n",
       "        vertical-align: middle;\n",
       "    }\n",
       "\n",
       "    .dataframe tbody tr th {\n",
       "        vertical-align: top;\n",
       "    }\n",
       "\n",
       "    .dataframe thead th {\n",
       "        text-align: right;\n",
       "    }\n",
       "</style>\n",
       "<table border=\"1\" class=\"dataframe\">\n",
       "  <thead>\n",
       "    <tr style=\"text-align: right;\">\n",
       "      <th>plan</th>\n",
       "      <th>surf</th>\n",
       "      <th>ultimate</th>\n",
       "    </tr>\n",
       "  </thead>\n",
       "  <tbody>\n",
       "    <tr>\n",
       "      <th>count</th>\n",
       "      <td>339.000000</td>\n",
       "      <td>161.000000</td>\n",
       "    </tr>\n",
       "    <tr>\n",
       "      <th>mean</th>\n",
       "      <td>33.120944</td>\n",
       "      <td>29.913043</td>\n",
       "    </tr>\n",
       "    <tr>\n",
       "      <th>std</th>\n",
       "      <td>35.721558</td>\n",
       "      <td>30.131668</td>\n",
       "    </tr>\n",
       "    <tr>\n",
       "      <th>min</th>\n",
       "      <td>0.000000</td>\n",
       "      <td>0.000000</td>\n",
       "    </tr>\n",
       "    <tr>\n",
       "      <th>25%</th>\n",
       "      <td>3.000000</td>\n",
       "      <td>0.000000</td>\n",
       "    </tr>\n",
       "    <tr>\n",
       "      <th>50%</th>\n",
       "      <td>24.000000</td>\n",
       "      <td>24.000000</td>\n",
       "    </tr>\n",
       "    <tr>\n",
       "      <th>75%</th>\n",
       "      <td>50.000000</td>\n",
       "      <td>51.000000</td>\n",
       "    </tr>\n",
       "    <tr>\n",
       "      <th>max</th>\n",
       "      <td>266.000000</td>\n",
       "      <td>137.000000</td>\n",
       "    </tr>\n",
       "  </tbody>\n",
       "</table>\n",
       "</div>"
      ],
      "text/plain": [
       "plan         surf    ultimate\n",
       "count  339.000000  161.000000\n",
       "mean    33.120944   29.913043\n",
       "std     35.721558   30.131668\n",
       "min      0.000000    0.000000\n",
       "25%      3.000000    0.000000\n",
       "50%     24.000000   24.000000\n",
       "75%     50.000000   51.000000\n",
       "max    266.000000  137.000000"
      ]
     },
     "execution_count": 18,
     "metadata": {},
     "output_type": "execute_result"
    }
   ],
   "source": [
    "messages_based_on_plan.describe()"
   ]
  },
  {
   "cell_type": "markdown",
   "metadata": {},
   "source": [
    "From the table above, we see that messages in ultimate packet have a more normal distribution than surf packet, as mean and median are closer to each other in value at ultimate plan. Mean is 33.1 for surf and 29.9 for ultimate. Finding their variance (std * std) gives a big number, which is related to dispersion.\n",
    "std(surf) = 35.72   IQR = 75 - 3\n",
    "std(ultimate) = 30.13 IQR= 51- 0"
   ]
  },
  {
   "cell_type": "code",
   "execution_count": 19,
   "metadata": {},
   "outputs": [
    {
     "data": {
      "text/html": [
       "<div>\n",
       "<style scoped>\n",
       "    .dataframe tbody tr th:only-of-type {\n",
       "        vertical-align: middle;\n",
       "    }\n",
       "\n",
       "    .dataframe tbody tr th {\n",
       "        vertical-align: top;\n",
       "    }\n",
       "\n",
       "    .dataframe thead th {\n",
       "        text-align: right;\n",
       "    }\n",
       "</style>\n",
       "<table border=\"1\" class=\"dataframe\">\n",
       "  <thead>\n",
       "    <tr style=\"text-align: right;\">\n",
       "      <th>plan</th>\n",
       "      <th>surf</th>\n",
       "      <th>ultimate</th>\n",
       "    </tr>\n",
       "  </thead>\n",
       "  <tbody>\n",
       "    <tr>\n",
       "      <th>count</th>\n",
       "      <td>339.000000</td>\n",
       "      <td>161.000000</td>\n",
       "    </tr>\n",
       "    <tr>\n",
       "      <th>mean</th>\n",
       "      <td>17.070796</td>\n",
       "      <td>16.559006</td>\n",
       "    </tr>\n",
       "    <tr>\n",
       "      <th>std</th>\n",
       "      <td>7.661921</td>\n",
       "      <td>7.635317</td>\n",
       "    </tr>\n",
       "    <tr>\n",
       "      <th>min</th>\n",
       "      <td>1.000000</td>\n",
       "      <td>1.000000</td>\n",
       "    </tr>\n",
       "    <tr>\n",
       "      <th>25%</th>\n",
       "      <td>13.000000</td>\n",
       "      <td>12.000000</td>\n",
       "    </tr>\n",
       "    <tr>\n",
       "      <th>50%</th>\n",
       "      <td>17.000000</td>\n",
       "      <td>17.000000</td>\n",
       "    </tr>\n",
       "    <tr>\n",
       "      <th>75%</th>\n",
       "      <td>21.000000</td>\n",
       "      <td>21.000000</td>\n",
       "    </tr>\n",
       "    <tr>\n",
       "      <th>max</th>\n",
       "      <td>44.000000</td>\n",
       "      <td>46.000000</td>\n",
       "    </tr>\n",
       "  </tbody>\n",
       "</table>\n",
       "</div>"
      ],
      "text/plain": [
       "plan         surf    ultimate\n",
       "count  339.000000  161.000000\n",
       "mean    17.070796   16.559006\n",
       "std      7.661921    7.635317\n",
       "min      1.000000    1.000000\n",
       "25%     13.000000   12.000000\n",
       "50%     17.000000   17.000000\n",
       "75%     21.000000   21.000000\n",
       "max     44.000000   46.000000"
      ]
     },
     "execution_count": 19,
     "metadata": {},
     "output_type": "execute_result"
    }
   ],
   "source": [
    "net_based_on_plan.describe()"
   ]
  },
  {
   "cell_type": "markdown",
   "metadata": {},
   "source": [
    "Mean is nearly the same at each plan, which indicates that users tend to use the same amount of internet, despite the package they use. Mean and median are near to each other so the data is symmetrically distributed. Variance is not to high that shows that values are around mean.\n",
    "std(surf) = 7.6       IQR = 21 - 13\n",
    "std(ultimate) = 7.6   IQR = 21 - 12     ** STEP 3"
   ]
  },
  {
   "cell_type": "code",
   "execution_count": 20,
   "metadata": {},
   "outputs": [
    {
     "name": "stdout",
     "output_type": "stream",
     "text": [
      "Statistics=18361.000, p=0.000\n",
      "There is some difference between revenues based on plan.\n"
     ]
    }
   ],
   "source": [
    "from scipy import stats as st\n",
    "import numpy as np\n",
    "from scipy.stats import mannwhitneyu\n",
    "\n",
    "table_surf = table2.query('plan == \"surf\"')\n",
    "surf_rev = table_surf['total_revenue']\n",
    "surf = surf_rev.values\n",
    "table_ultimate = table2.query('plan == \"ultimate\"')\n",
    "ultimate_rev = table_ultimate['total_revenue']\n",
    "ultimate = ultimate_rev.values\n",
    "\n",
    "stat, p = mannwhitneyu(surf, ultimate)\n",
    "print('Statistics=%.3f, p=%.3f' % (stat, p))\n",
    "# interpret\n",
    "alpha = 0.05\n",
    "if p > alpha:\n",
    "    print('There is no difference between revenues based on plan.')\n",
    "else:\n",
    "    print('There is some difference between revenues based on plan.')"
   ]
  },
  {
   "cell_type": "markdown",
   "metadata": {},
   "source": [
    "STEP 4 ** As the distribution at total revenue is not normal, I choosed to use Mann White criterion to test the hypothesis. The null hypothesis I choose: There is no difference between revenues based on plan.\n",
    "Alternative hypothesis: There is difference between revenues based on the fact the users are from NY-NJ city or any other."
   ]
  },
  {
   "cell_type": "code",
   "execution_count": 21,
   "metadata": {},
   "outputs": [
    {
     "name": "stdout",
     "output_type": "stream",
     "text": [
      "Statistics=18731.500, p=0.000\n",
      "We reject the H0, it exist some difference between revenues based on the fact the users are from NY-NJ city or any other.\n"
     ]
    }
   ],
   "source": [
    "ny_nj = table2.query('city == \"New York-Newark-Jersey City, NY-NJ-PA MSA\"')\n",
    "ny_nj_rev = ny_nj['total_revenue']\n",
    "ny_nj_users = ny_nj_rev.values\n",
    "other = table2.query('city != \"New York-Newark-Jersey City, NY-NJ-PA MSA\"')\n",
    "other_rev = other['total_revenue']\n",
    "other_users = other_rev.values\n",
    "\n",
    "\n",
    "\n",
    "\n",
    "stat, p = mannwhitneyu(ny_nj_users, other_users)\n",
    "print('Statistics=%.3f, p=%.3f' % (stat, p))\n",
    "# interpret\n",
    "alpha = 0.05\n",
    "if p > alpha:\n",
    "    print('There is no difference between revenues based on the fact the users are from NY-NJ city or any other.')\n",
    "else:\n",
    "    print('We reject the H0, it exist some difference between revenues based on the fact the users are from NY-NJ city or any other.')"
   ]
  },
  {
   "cell_type": "markdown",
   "metadata": {},
   "source": [
    "Again, I chosed to use Mann White criterion to test the hypothesis. The null hypothesis I choose: There is no difference between revenues based on the fact the users are from NY-NJ city or any other.\n",
    "Alternative hypothesis: There is difference between revenues based on the fact the users are from NY-NJ city or any other.  ** STEP 4"
   ]
  },
  {
   "cell_type": "code",
   "execution_count": 22,
   "metadata": {},
   "outputs": [
    {
     "name": "stdout",
     "output_type": "stream",
     "text": [
      "Surf is 21021.5 Ultimate is 11515.0\n"
     ]
    }
   ],
   "source": [
    "surf_sum = surf.sum()\n",
    "ultimate_sum = ultimate.sum()\n",
    "\n",
    "print(\"Surf is\", surf_sum, \"Ultimate is\", ultimate_sum)"
   ]
  },
  {
   "cell_type": "markdown",
   "metadata": {},
   "source": [
    "STEP 5 ** In this project I started with some data preprocessing. I created a table, which I grouped on user_id and month. Each user_id, in each month he used a package, had his/her minutes,massages and data used from their package, along with their plan and city users live. Then I created 4 functions, where in the first 3 ones, I calculated respectively minutes cost, messages cost and internet cost, which were costs of extra minutes, messages and internet that users used bisides the amount they had from the package. The last function calculate total revenue of each user.\n",
    "Then, with some frequency graphs I gave graphical view of minutes, messages and internet used by users, based on what package had the users, surf or ultimate. For each of this tables I also used describe() method.\n",
    "In the end i test 2 hypotheses, and for each I used Mann White criterion, as we do not have a normal distribution.\n",
    "From above short code, in total revenue surf is more profitable for 2018 year with 21021.5$ revenue while ultimate was 11515$. ** STEP 5"
   ]
  }
 ],
 "metadata": {
  "kernelspec": {
   "display_name": "Python 3",
   "language": "python",
   "name": "python3"
  },
  "language_info": {
   "codemirror_mode": {
    "name": "ipython",
    "version": 3
   },
   "file_extension": ".py",
   "mimetype": "text/x-python",
   "name": "python",
   "nbconvert_exporter": "python",
   "pygments_lexer": "ipython3",
   "version": "3.7.4"
  },
  "toc": {
   "base_numbering": 1,
   "nav_menu": {},
   "number_sections": true,
   "sideBar": true,
   "skip_h1_title": true,
   "title_cell": "Table of Contents",
   "title_sidebar": "Contents",
   "toc_cell": false,
   "toc_position": {},
   "toc_section_display": true,
   "toc_window_display": false
  }
 },
 "nbformat": 4,
 "nbformat_minor": 2
}
